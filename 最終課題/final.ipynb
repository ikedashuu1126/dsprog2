{
 "cells": [
  {
   "cell_type": "code",
   "execution_count": 9,
   "metadata": {},
   "outputs": [
    {
     "name": "stdout",
     "output_type": "stream",
     "text": [
      "[('シャトー上原', '13万円', '10DK', '30.3m2', '築35年\\n3階建'), ('ディームス渋谷本町', '23.8万円', '1LDK', '42.15m2', '築6年\\n14階建'), ('ヴィオラ笹塚', '21.5万円', '2LDK', '53.2m2', '築25年\\n2階建'), ('プライムガーデン恵比寿南', '21.6万円', '1LDK', '31.47m2', '新築\\n13階建'), ('ＪＲ山手線 恵比寿駅 13階建 新築', '21.6万円', '1LDK', '31.47m2', '新築\\n13階建'), ('ガーデン代々木参宮橋', '23万円', '2LDK', '55.97m2', '築22年\\n4階建'), ('レフィール参宮橋ヒルズ', '30万円', '2LDK', '58.01m2', '築9年\\n5階建'), ('ルーナ\\u3000ピィエナ代々木上原', '16.5万円', '1LDK', '34.19m2', '築4年\\n地下2地上3階建'), ('テラス富ヶ谷', '20万円', '2SDK', '54.65m2', '築21年\\n2階建'), ('THE\\u3000COURT\\u3000神宮外苑\\u3000ザ・コートジングウガイエン', '39.8万円', '2LDK', '56.77m2', '築6年\\n地下1地上23階建'), ('パークキューブ代々木富ヶ谷', '18.4万円', '1LDK', '34.36m2', '築18年\\n9階建'), ('ソルテ千駄ヶ谷', '19.3万円', '1LDK', '33.27m2', '新築\\n4階建'), ('GRAN\\u3000PASEO新宿\\u3000グランパセオ新宿', '12.5万円', '1K', '22.9m2', '築7年\\n地下1地上4階建'), ('T-HAUS 鉢山', '32.5万円', '1SLDK', '64.39m2', '新築\\n4階建'), ('京王新線 幡ヶ谷駅 3階建 築5年', '14.5万円', '1LDK', '42.23m2', '築5年\\n3階建'), ('ミハス幡ヶ谷', '14.5万円', '1LDK', '42.23m2', '築5年\\n3階建'), ('ラサンテ広尾', '11.8万円', '1K', '20.02m2', '築18年\\n10階建'), ('パークアクシス渋谷神山町', '14.8万円', 'ワンルーム', '27.72m2', '築9年\\n12階建'), ('コンフォリア原宿', '18.9万円', '1LDK', '36.97m2', '築20年\\n7階建'), ('Maison Kyouwa', '17.6万円', '1LDK', '33.8m2', '築5年\\n5階建')]\n"
     ]
    }
   ],
   "source": [
    "import requests\n",
    "from bs4 import BeautifulSoup\n",
    "\n",
    "def scrape_suumo(url):\n",
    "    response = requests.get(url)\n",
    "    soup = BeautifulSoup(response.content, 'html.parser')\n",
    "    \n",
    "    # 必要なデータを抽出\n",
    "    properties = []\n",
    "    for item in soup.find_all('div', class_='cassetteitem'):\n",
    "        name = item.find('div', class_='cassetteitem_content-title').text.strip()\n",
    "        rent = item.find('span', class_='cassetteitem_other-emphasis').text.strip()\n",
    "        layout = item.find('span', class_='cassetteitem_madori').text.strip()\n",
    "        area = item.find('span', class_='cassetteitem_menseki').text.strip()\n",
    "        distance = item.find('li', class_='cassetteitem_detail-col3').text.strip()\n",
    "        properties.append((name, rent, layout, area, distance))\n",
    "    \n",
    "    return properties\n",
    "\n",
    "# SUUMOのURL例 (地域別に検索ページを設定)\n",
    "url = \"https://suumo.jp/chintai/tokyo/sc_shibuya/\"\n",
    "data = scrape_suumo(url)\n",
    "print(data)"
   ]
  }
 ],
 "metadata": {
  "kernelspec": {
   "display_name": ".venv",
   "language": "python",
   "name": "python3"
  },
  "language_info": {
   "codemirror_mode": {
    "name": "ipython",
    "version": 3
   },
   "file_extension": ".py",
   "mimetype": "text/x-python",
   "name": "python",
   "nbconvert_exporter": "python",
   "pygments_lexer": "ipython3",
   "version": "3.12.7"
  }
 },
 "nbformat": 4,
 "nbformat_minor": 2
}
